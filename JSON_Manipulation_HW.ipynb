{
  "nbformat": 4,
  "nbformat_minor": 0,
  "metadata": {
    "colab": {
      "provenance": []
    },
    "kernelspec": {
      "name": "python3",
      "display_name": "Python 3"
    },
    "language_info": {
      "name": "python"
    }
  },
  "cells": [
    {
      "cell_type": "code",
      "execution_count": 30,
      "metadata": {
        "id": "pRZLKQQIBVPJ"
      },
      "outputs": [],
      "source": [
        "import pandas as pd\n",
        "import json\n",
        "import requests\n",
        "\n",
        "#1. Load a JSON File attached into you Python (You can use a juypter lab notebook or any Python IDE)\n",
        "url = 'https://raw.githubusercontent.com/jasonwnc/ds2002s24/main/2.%20Python/coll%20bb_SortByConf.json'\n",
        "response = requests.get(url)\n",
        "json_data = json.loads(response.text)"
      ]
    },
    {
      "cell_type": "code",
      "source": [
        "#2. Take that file and put it into a Pandas Data Frame\n",
        "df = pd.json_normalize(data = json_data, record_path = ['teams'])\n",
        "print(df)"
      ],
      "metadata": {
        "colab": {
          "base_uri": "https://localhost:8080/"
        },
        "id": "EXPY3GT6ErpT",
        "outputId": "d629424b-9383-4bd0-a452-f306db164906"
      },
      "execution_count": 31,
      "outputs": [
        {
          "output_type": "stream",
          "name": "stdout",
          "text": [
            "     tid  cid  did                region        name abbrev  pop  \\\n",
            "0    159    0    0        Boston College      Eagles     BC  161   \n",
            "1    105    0    0               Clemson      Tigers   CLEM  215   \n",
            "2    109    0    0         Florida State   Seminoles    FSU  211   \n",
            "3     18    0    0            Louisville   Cardinals     UL  302   \n",
            "4     31    0    0  North Carolina State    Wolfpack   NCST  289   \n",
            "..   ...  ...  ...                   ...         ...    ...  ...   \n",
            "315  297   19   39                 Omaha   Mavericks  OMAHA   23   \n",
            "316  240   19   39               Houston     Cougars    HOU   80   \n",
            "317   88   19   39               Memphis      Tigers   MEMP  232   \n",
            "318  212   19   39                Tulane  Green Wave    TUL  108   \n",
            "319  287   19   39       Houston Baptist     Huskies    HBU   33   \n",
            "\n",
            "                   city state  latitude  longitude  \n",
            "0         Chestnut Hill    MA    42.330    -71.166  \n",
            "1               Clemson    SC    34.678    -82.839  \n",
            "2           Tallahassee    FL    30.442    -84.298  \n",
            "3            Louisville    KY    38.250    -85.766  \n",
            "4               Raleigh    NC    35.786    -78.682  \n",
            "..                  ...   ...       ...        ...  \n",
            "315               Omaha    NE    41.259    -96.005  \n",
            "316             Houston    TX    29.718    -95.339  \n",
            "317             Memphis    TN    35.119    -89.937  \n",
            "318         New Orleans    NO    29.935    -90.122  \n",
            "319  Greater Sharpstown    TX    29.694    -95.515  \n",
            "\n",
            "[320 rows x 11 columns]\n"
          ]
        }
      ]
    },
    {
      "cell_type": "code",
      "source": [
        "#3. Output the results for me for 100 rows\n",
        "print(df.head(100))"
      ],
      "metadata": {
        "colab": {
          "base_uri": "https://localhost:8080/"
        },
        "id": "6LTTTfGoE3KO",
        "outputId": "8c2b3975-7d03-4bcd-97a1-c5db2046cc7d"
      },
      "execution_count": 32,
      "outputs": [
        {
          "output_type": "stream",
          "name": "stdout",
          "text": [
            "    tid  cid  did                region       name  abbrev  pop  \\\n",
            "0   159    0    0        Boston College     Eagles      BC  161   \n",
            "1   105    0    0               Clemson     Tigers    CLEM  215   \n",
            "2   109    0    0         Florida State  Seminoles     FSU  211   \n",
            "3    18    0    0            Louisville  Cardinals      UL  302   \n",
            "4    31    0    0  North Carolina State   Wolfpack    NCST  289   \n",
            "..  ...  ...  ...                   ...        ...     ...  ...   \n",
            "95  300    5   11    Jacksonville State  Gamecocks  JVILLE   20   \n",
            "96   72    6   12    Eastern Washington     Eagles   EWASH  248   \n",
            "97  139    6   12      Sacramento State    Hornets   SACST  181   \n",
            "98  239    6   12     Northern Colorado      Bears   NOCOL   81   \n",
            "99  266    6   12                 Idaho    Vandals      UI   54   \n",
            "\n",
            "             city state  latitude  longitude  \n",
            "0   Chestnut Hill    MA    42.330    -71.166  \n",
            "1         Clemson    SC    34.678    -82.839  \n",
            "2     Tallahassee    FL    30.442    -84.298  \n",
            "3      Louisville    KY    38.250    -85.766  \n",
            "4         Raleigh    NC    35.786    -78.682  \n",
            "..            ...   ...       ...        ...  \n",
            "95   Jacksonville    AL    33.815    -85.760  \n",
            "96         Cheney    WA    47.488   -117.578  \n",
            "97     Sacramento    CA    38.555   -121.468  \n",
            "98        Greeley    CO    40.416   -104.716  \n",
            "99         Moscow    ID    46.730   -117.000  \n",
            "\n",
            "[100 rows x 11 columns]\n"
          ]
        }
      ]
    },
    {
      "cell_type": "code",
      "source": [
        "#4. Answer the following questions using Python:\n",
        "\n",
        "#a. How many teams are there?\n",
        "num_teams = df.shape[0]\n",
        "print(\"There are\", num_teams, \"teams.\")\n",
        "\n",
        "#b. How many teams are in the state of Virginia?\n",
        "num_va_teams = df[df['state'] == 'VA'].shape[0]\n",
        "print(\"There are\", num_va_teams, \"teams in the state of Virginia.\")\n",
        "\n",
        "#c. Give me a list of Duplicate Mascots and group them by number....IE. Don't include groups of 1.\n",
        "mascot_counts = df.groupby('name').size()\n",
        "duplicate_mascots = mascot_counts[mascot_counts > 1]\n",
        "print(\"The list of Duplicate Mascots is as follows:\")\n",
        "print(duplicate_mascots)"
      ],
      "metadata": {
        "colab": {
          "base_uri": "https://localhost:8080/"
        },
        "id": "vlHyJt0fE58V",
        "outputId": "03d7dfcc-3be6-4f70-e2d8-b1d8c901db30"
      },
      "execution_count": 34,
      "outputs": [
        {
          "output_type": "stream",
          "name": "stdout",
          "text": [
            "There are 320 teams.\n",
            "There are 13 teams in the state of Virginia.\n",
            "The list of Duplicate Mascots is as follows:\n",
            "name\n",
            "49ers             2\n",
            "Aggies            4\n",
            "Bears             4\n",
            "Bison             2\n",
            "Bisons            2\n",
            "Bobcats           3\n",
            "Broncos           3\n",
            "Bruins            2\n",
            "Buccaneers        2\n",
            "Bulldogs         13\n",
            "Bulls             2\n",
            "Cardinals         4\n",
            "Catamounts        2\n",
            "Colonials         2\n",
            "Cougars           4\n",
            "Cowboys           3\n",
            "Crusaders         2\n",
            "Dukes             2\n",
            "Eagles           10\n",
            "Falcons           2\n",
            "Gaels             2\n",
            "Gamecocks         2\n",
            "Golden Eagles     4\n",
            "Hawks             4\n",
            "Highlanders       2\n",
            "Hornets           3\n",
            "Huskies           5\n",
            "Jaguars           3\n",
            "Knights           2\n",
            "Lions             2\n",
            "Lumberjacks       2\n",
            "Mavericks         2\n",
            "Mountaineers      3\n",
            "Mustangs          2\n",
            "Owls              4\n",
            "Panthers          8\n",
            "Phoenix           2\n",
            "Pioneers          2\n",
            "Pirates           3\n",
            "Raiders           2\n",
            "Rams              4\n",
            "Rebels            2\n",
            "Redhawks          3\n",
            "Roadrunners       2\n",
            "Spartans          4\n",
            "Terriers          3\n",
            "Tigers            9\n",
            "Titans            2\n",
            "Trojans           3\n",
            "Vikings           3\n",
            "Wildcats          8\n",
            "Wolverines        2\n",
            "dtype: int64\n"
          ]
        }
      ]
    }
  ]
}